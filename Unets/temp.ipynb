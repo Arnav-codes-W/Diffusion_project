{
 "cells": [
  {
   "cell_type": "code",
   "execution_count": 5,
   "id": "dceae487",
   "metadata": {},
   "outputs": [],
   "source": [
    "from unet_torch import UNet"
   ]
  },
  {
   "cell_type": "code",
   "execution_count": 12,
   "id": "ace20c79",
   "metadata": {},
   "outputs": [
    {
     "name": "stdout",
     "output_type": "stream",
     "text": [
      "Total parameters:  52,926,211\n",
      "Trainable parameters: 52,926,211\n"
     ]
    }
   ],
   "source": [
    "from unet_torch import UNet\n",
    "import torch\n",
    "\n",
    "# instantiate your model (fill in any args you need)\n",
    "model = UNet(\n",
    "    num_classes=1,\n",
    "    ch=256,\n",
    "    emb_ch=1024,\n",
    "    out_ch=3,  # e.g., RGB output\n",
    "    ch_mult=(1, 1, 1),\n",
    "    num_res_blocks=3,\n",
    "    attn_resolutions=(8, 16),\n",
    "    num_heads=1,\n",
    "    dropout=0.2,\n",
    "    logsnr_input_type=\"inv_cos\",\n",
    "    resblock_resample=True,\n",
    "    logsnr_scale_range=(-10,10)\n",
    ")\n",
    "\n",
    "total_params = sum(p.numel() for p in model.parameters())\n",
    "trainable_params = sum(p.numel() for p in model.parameters() if p.requires_grad)\n",
    "\n",
    "print(f\"Total parameters:  {total_params:,}\")\n",
    "print(f\"Trainable parameters: {trainable_params:,}\")"
   ]
  },
  {
   "cell_type": "code",
   "execution_count": 1,
   "id": "552b8d06",
   "metadata": {},
   "outputs": [],
   "source": [
    "from unet_jaxcode import UNet as JaxUNet"
   ]
  },
  {
   "cell_type": "code",
   "execution_count": 13,
   "id": "4acf41c8",
   "metadata": {},
   "outputs": [
    {
     "name": "stdout",
     "output_type": "stream",
     "text": [
      "Total parameters: 60,004,099\n"
     ]
    }
   ],
   "source": [
    "import jax\n",
    "import jax.numpy as jnp\n",
    "from flax.core import FrozenDict\n",
    "from unet_jaxcode import UNet\n",
    "\n",
    "# 1) instantiate your UNet with the same hyper-parameters you plan to train with\n",
    "model = UNet(\n",
    "    num_classes=1,\n",
    "    ch=256,\n",
    "    emb_ch=1024,\n",
    "    out_ch=3,  # e.g., RGB output\n",
    "    ch_mult=(1, 1, 1),\n",
    "    num_res_blocks=3,\n",
    "    attn_resolutions=(8, 16),\n",
    "    num_heads=1,\n",
    "    dropout=0.2,\n",
    "    logsnr_input_type=\"inv_cos\",\n",
    "    resblock_resample=True,\n",
    "    logsnr_scale_range=(-10,10)\n",
    ")\n",
    "\n",
    "# 2) create dummy inputs matching the signature\n",
    "rng = jax.random.PRNGKey(0)\n",
    "dummy_x     = jnp.zeros((1, 32, 32, 3), jnp.float32)\n",
    "dummy_logsnr= jnp.zeros((1,),      jnp.float32)\n",
    "dummy_y     = jnp.zeros((1,),      jnp.int32)  # if num_classes>1, else can pass 0\n",
    "\n",
    "# 3) init to get variables dict, grab the 'params' sub-tree\n",
    "variables = model.init(rng, dummy_x, dummy_logsnr, dummy_y, train=False)\n",
    "params: FrozenDict = variables['params']\n",
    "\n",
    "# 4) sum up all leaf sizes\n",
    "param_count = sum([p.size for p in jax.tree_util.tree_leaves(params)])\n",
    "print(f\"Total parameters: {param_count:,}\")"
   ]
  },
  {
   "cell_type": "code",
   "execution_count": null,
   "id": "b95f3ebe",
   "metadata": {},
   "outputs": [],
   "source": []
  }
 ],
 "metadata": {
  "kernelspec": {
   "display_name": "cloudspace",
   "language": "python",
   "name": "python3"
  },
  "language_info": {
   "codemirror_mode": {
    "name": "ipython",
    "version": 3
   },
   "file_extension": ".py",
   "mimetype": "text/x-python",
   "name": "python",
   "nbconvert_exporter": "python",
   "pygments_lexer": "ipython3",
   "version": "3.10.10"
  }
 },
 "nbformat": 4,
 "nbformat_minor": 5
}
